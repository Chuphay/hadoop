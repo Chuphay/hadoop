{
 "cells": [
  {
   "cell_type": "code",
   "execution_count": 3,
   "metadata": {
    "collapsed": false
   },
   "outputs": [
    {
     "name": "stdout",
     "output_type": "stream",
     "text": [
      "Populating the interactive namespace from numpy and matplotlib\n"
     ]
    },
    {
     "data": {
      "text/html": [
       "<script>\n",
       "code_show=true; \n",
       "function code_toggle() {\n",
       " if (code_show){\n",
       " $('div.input').hide();\n",
       " } else {\n",
       " $('div.input').show();\n",
       " }\n",
       " code_show = !code_show\n",
       "} \n",
       "$( document ).ready(code_toggle);\n",
       "</script>\n",
       "<form action=\"javascript:code_toggle()\"><input type=\"submit\" value=\"Click here to toggle on/off the raw code.\"></form>"
      ],
      "text/plain": [
       "<IPython.core.display.HTML object>"
      ]
     },
     "execution_count": 3,
     "metadata": {},
     "output_type": "execute_result"
    }
   ],
   "source": [
    "%pylab inline\n",
    "\n",
    "from IPython.display import HTML\n",
    "HTML('''<script>\n",
    "code_show=true; \n",
    "function code_toggle() {\n",
    " if (code_show){\n",
    " $('div.input').hide();\n",
    " } else {\n",
    " $('div.input').show();\n",
    " }\n",
    " code_show = !code_show\n",
    "} \n",
    "$( document ).ready(code_toggle);\n",
    "</script>\n",
    "<form action=\"javascript:code_toggle()\"><input type=\"submit\" value=\"Click here to toggle on/off the raw code.\"></form>''')"
   ]
  },
  {
   "cell_type": "markdown",
   "metadata": {},
   "source": [
    "# Linear Regression"
   ]
  },
  {
   "cell_type": "markdown",
   "metadata": {},
   "source": [
    "### Introduction"
   ]
  },
  {
   "cell_type": "markdown",
   "metadata": {},
   "source": [
    "Linear regression is useful for predicting the value of one variable based on the value of another variable. Generally, the variable we are trying to predict is denoted $y$ and the variable we are trying to make predictions from is often called the explanatory variable and is denoted by $x$. \n",
    "\n",
    "In this tutorial, we will only consider the case where there is only one explanatory variable and one predictor varaible. We will also assume that a straight line of the form\n",
    "\n",
    "$$\\hat{Y} = \\theta_0 + \\theta_1*X$$\n",
    "where $\\theta_0$ is the intercept and $\\theta_1$ is the slope, will be a good fit to the data. \n",
    "\n",
    "We use $\\hat{Y}$ because we want to emphasize that this is what the line predicts y will be given a certain x, not necessarily what y actually turns out to be. \n",
    "\n",
    "A pictorial example may help give an intuitive idea of what we are trying to do."
   ]
  },
  {
   "cell_type": "code",
   "execution_count": 1,
   "metadata": {
    "collapsed": false
   },
   "outputs": [
    {
     "name": "stdout",
     "output_type": "stream",
     "text": [
      "Populating the interactive namespace from numpy and matplotlib\n"
     ]
    },
    {
     "data": {
      "image/png": "[encoded data removed]",
      "text/plain": [
       "<matplotlib.figure.Figure at 0xb6311b6c>"
      ]
     },
     "metadata": {},
     "output_type": "display_data"
    }
   ],
   "source": [
    "import numpy as np\n",
    "from numpy.random import normal, uniform\n",
    "\n",
    "data = []\n",
    "for i in range(100):\n",
    "    x = uniform(-10,10)\n",
    "    y = -3 + 2*x + 5*normal()\n",
    "    data.append([x,y])\n",
    "data = np.array(data)\n",
    "x = linspace(-10,10,100)\n",
    "scatter(data[:,0], data[:,1]);\n",
    "plot(x, -3 + 2*x, lw=4, color = 'red');"
   ]
  },
  {
   "cell_type": "markdown",
   "metadata": {},
   "source": [
    "Basically, we are just trying to draw a line that best characterizes the data points. \n",
    "\n",
    "\n",
    "To describe the line, we only need two parameters: $\\theta_0$ and $\\theta_1$.\n",
    "\n",
    "If we define $X$ to be a matrix with the following form $X = \\begin{bmatrix} 1&x_1 \\\\ 1&x_2 \\\\ \\vdots &\\vdots \\\\ 1&x_n  \\end{bmatrix}$ then we can write a completely general formula for a line compactly as\n",
    "\n",
    "$$Y = X \\cdot \\theta$$\n",
    "\n",
    "where $\\theta$ is now the column vector $\\begin{bmatrix} \\theta_0 \\\\ \\theta_1 \\end{bmatrix}$"
   ]
  },
  {
   "cell_type": "markdown",
   "metadata": {},
   "source": [
    "However, this is the formula for all lines...\n",
    "\n",
    "But what we want to find is the line that best fits the data. How do we do that? First, we have to define the error that the line makes with respect to each data point. The way we do that is by defining the error as follows:\n",
    "\n",
    "$$\\text{Error}_i = (\\theta_0 + \\theta_1*x_i) - y_i$$\n",
    "\n",
    "Generally we want to use the squared error because it has certain desirable analytic qualities. Thus, we want to find the $\\theta^*$ that minimizes $\\sum (X_i \\cdot \\theta - Y_i)^2$, or, in other words, we let  $\\theta^* = \\min_{\\theta} \\sum (X_i \\cdot \\theta - Y_i)^2$ \n",
    "\n",
    "If you work through the algebra, you will find that this is equivalent to solving:\n",
    "\n",
    "$$\\theta^* = (X^T X)^{-1} X^T Y $$"
   ]
  },
  {
   "cell_type": "markdown",
   "metadata": {},
   "source": [
    "### A Really Simple Example"
   ]
  },
  {
   "cell_type": "markdown",
   "metadata": {},
   "source": [
    "To get a good understanding of the techniques used for map-reduce, let us first look at a really simple example to get a good feel for the mathematics involved.\n",
    "\n",
    "This example will only have three data points that all fall on the line $y = 1 + 1*x$."
   ]
  },
  {
   "cell_type": "code",
   "execution_count": 24,
   "metadata": {
    "collapsed": false
   },
   "outputs": [
    {
     "data": {
      "image/png": "[encoded data removed]",
      "text/plain": [
       "<matplotlib.figure.Figure at 0xb039bb8c>"
      ]
     },
     "metadata": {},
     "output_type": "display_data"
    }
   ],
   "source": [
    "fig = plt.figure(1)\n",
    "ax = fig.add_subplot(111)\n",
    "        \n",
    "ax.plot(1, 2, marker = 'o', color = 'black')\n",
    "ax.text(1, 1.5, r'  $(1,2)$', fontsize=15)  \n",
    "ax.plot(2, 3, marker = 'o', color = 'black')\n",
    "ax.text(2, 2.5, r'  $(2,3)$', fontsize=15)  \n",
    "ax.plot(3, 4, marker = 'o', color = 'black')\n",
    "ax.text(3, 3.5, r'  $(3,4)$', fontsize=15)  \n",
    "ylim(0,5)\n",
    "xlim(0,4)\n",
    "x = linspace(0,4,100)\n",
    "ax.plot(x, 1 +x)\n",
    "plt.show()"
   ]
  },
  {
   "cell_type": "markdown",
   "metadata": {},
   "source": [
    "Even though we know what the answer is going to be, let's work through the math carefully to help us when we jump to the map-reduce paradigm.\n",
    "\n",
    "First we write down $X$ and $Y$:"
   ]
  },
  {
   "cell_type": "markdown",
   "metadata": {},
   "source": [
    "$$X = \\begin{bmatrix} 1&1 \\\\ 1&2 \\\\ 1&3 \\end{bmatrix} \\hspace{40mm} Y = \\begin{bmatrix} 2\\\\ 3 \\\\ 4 \\end{bmatrix}$$"
   ]
  },
  {
   "cell_type": "markdown",
   "metadata": {},
   "source": [
    "Next, we find the other matrices that we will need:"
   ]
  },
  {
   "cell_type": "markdown",
   "metadata": {},
   "source": [
    "$$X^T = \\begin{bmatrix} 1&1&1\\\\1&2&3 \\end{bmatrix} \\hspace{10mm} X^T X = \\begin{bmatrix} 3&6 \\\\ 6&14 \\end{bmatrix} \\hspace{10mm} (X^T X)^{-1} = \\begin{bmatrix} 2.333&-1 \\\\ -1&0.5 \\end{bmatrix} \\hspace{10mm} X^T Y = \\begin{bmatrix} 9\\\\ 20 \\end{bmatrix} $$"
   ]
  },
  {
   "cell_type": "markdown",
   "metadata": {},
   "source": [
    "Finally, we are ready to calculate $\\theta^*$:\n",
    "\n",
    "$$\\theta^* = (X^T X)^{-1} X^T Y = \\begin{bmatrix} 2.333&-1 \\\\ -1&0.5 \\end{bmatrix} \\begin{bmatrix} 9\\\\ 20 \\end{bmatrix} = \\begin{bmatrix} 1\\\\ 1 \\end{bmatrix}$$"
   ]
  },
  {
   "cell_type": "markdown",
   "metadata": {},
   "source": [
    "And just as we hoped, we have found that the parameters are 1 and 1.\n",
    "\n"
   ]
  },
  {
   "cell_type": "markdown",
   "metadata": {},
   "source": [
    "### Map Reduce"
   ]
  },
  {
   "cell_type": "markdown",
   "metadata": {},
   "source": [
    "Now we are ready to do linear regression in the map-reduce paradigm.\n",
    "\n",
    "As you know from our really simple example, we need to calculate several dot products. This means that you need to multiply all the rows of one matrix by all the columns of another matrix. But, if you think about it long enough, doing matrix multiplication in this standard manner means that there is no simple way to break up this problem into a map-reduce job. \n",
    "\n",
    "Luckily, Andrew Ng is pretty smart. I'm not sure if Professor Ng actually invented this method, but he wrote a [paper](http://papers.nips.cc/paper/3150-map-reduce-for-machine-learning-on-multicore.pdf) that explains a pretty cool way to break down this problem so that it is possible to use map-reduce. Let's find out how he did it."
   ]
  },
  {
   "cell_type": "markdown",
   "metadata": {},
   "source": [
    "First, what we want to do is write $\\theta^*$ as the product of two pieces so that $\\theta^* = A^{-1} b$, where $b = X^T \\cdot Y$ and $A = X^T\\cdot X$. \n",
    "\n",
    "Now the amazing part is that instead of expressing $A$ and $b$ as inner products we can express them as outer products instead:\n",
    "\n",
    "\n",
    "$$A = \\sum (x_i x_i^T) ~~~~\\text{and} ~~~~~b = \\sum (x_i y_i)$$\n",
    "\n",
    "\n"
   ]
  },
  {
   "cell_type": "markdown",
   "metadata": {},
   "source": [
    "Before explaining how this solves our problems, lets work through our toy example, with only three data points, and see how the mathematics work. \n",
    "\n",
    "Let us first find A.\n",
    "\n",
    "What we need to calcualte is\n",
    "\n",
    "$$A = x_1 x_1^T +x_2 x_2^T +x_3 x_3^T$$\n",
    "\n",
    "Similarily, we calculate b like\n",
    "\n",
    "$$b = x_1 y_1 +x_2 y_2 +x_3 y_3 $$\n",
    "\n",
    "We therefore have divided the problem into three seperate calculations that each only depend on the two numbers $x_i$ and $y_i$. Thus, we can imagine that in a map reduce job, the first mapper would be only in charge of the first data point, i.e., (1,2) and would thus calculate:\n",
    "\n",
    "$$x_1 = \\begin{bmatrix} 1\\\\1 \\end{bmatrix} ~~~~~~ y_1 = 2 $$\n",
    "\n",
    "$$A_1 = x_1 x_1^T = \\begin{bmatrix} 1\\\\1 \\end{bmatrix} \\begin{bmatrix} 1&1 \\end{bmatrix} = \\begin{bmatrix} 1&1 \\\\ 1&1 \\end{bmatrix}$$\n",
    "\n",
    "$$b_1 = x_1 y_1 = \\begin{bmatrix} 1\\\\1 \\end{bmatrix} 2 =  \\begin{bmatrix} 2\\\\2 \\end{bmatrix}$$"
   ]
  },
  {
   "cell_type": "markdown",
   "metadata": {},
   "source": [
    "Similarily, the other two data points could each be handled by their own mapper and would produce the following results:\n",
    "\n",
    "$$A_2 = \\begin{bmatrix} 1 \\\\ 2\\end{bmatrix}\\begin{bmatrix} 1 & 2\\end{bmatrix} = \\begin{bmatrix} 1&2 \\\\ 2&4 \\end{bmatrix} ~~~~~\\text{and} ~~~~~~ b_2 = \\begin{bmatrix} 3 \\\\ 6\\end{bmatrix}$$\n",
    "\n",
    "\n",
    "$$A_3 = \\begin{bmatrix} 1 \\\\ 3\\end{bmatrix}\\begin{bmatrix} 1 & 3\\end{bmatrix} = \\begin{bmatrix} 1&3 \\\\ 3&9 \\end{bmatrix} ~~~~~\\text{and} ~~~~~~ b_3 = \\begin{bmatrix} 4 \\\\ 12\\end{bmatrix}$$\n",
    "\n",
    "\n",
    "\n",
    "\n"
   ]
  },
  {
   "cell_type": "markdown",
   "metadata": {},
   "source": [
    "After the mappers finish calculating these pieces, the reducer simply brings them together:\n",
    "\n",
    "$$A =  \\begin{bmatrix} 1&1 \\\\ 1&1 \\end{bmatrix} +  \\begin{bmatrix} 1&2 \\\\ 2&4 \\end{bmatrix} + \\begin{bmatrix} 1&3 \\\\ 3&9 \\end{bmatrix} =  \\begin{bmatrix} 3&6 \\\\ 6&14 \\end{bmatrix}$$\n",
    "\n",
    "$$b = \\begin{bmatrix} 2 \\\\ 2\\end{bmatrix}+\\begin{bmatrix} 3 \\\\ 6\\end{bmatrix} + \\begin{bmatrix} 4 \\\\ 12\\end{bmatrix}= \\begin{bmatrix} 9 \\\\ 20\\end{bmatrix}$$"
   ]
  },
  {
   "cell_type": "markdown",
   "metadata": {},
   "source": [
    "And finally, we can calculte $\\theta^*$ by taking the inverse of A and then multiplying that with b. "
   ]
  },
  {
   "cell_type": "markdown",
   "metadata": {},
   "source": [
    "### My Python Code"
   ]
  },
  {
   "cell_type": "markdown",
   "metadata": {},
   "source": [
    "I encourage you to stop reading this article and try to test your knowledge of map-reduce and program up this regression algorithm yourself. However, if you get stuck, you can also check out how I built my code.\n",
    "\n",
    "Here's my mapper:"
   ]
  },
  {
   "cell_type": "markdown",
   "metadata": {},
   "source": [
    "```\n",
    "import numpy as np\n",
    "import sys\n",
    "\n",
    "x = []\n",
    "y = []\n",
    "for line in sys.stdin:\n",
    "    temp = line.split()\n",
    "    x.append(float(temp[0]))\n",
    "    y.append(float(temp[1]))\n",
    "\n",
    "x = np.array([np.ones(len(x)),x]).T\n",
    "\n",
    "\n",
    "A = np.array([[0,0],[0,0]])\n",
    "B = np.array([0,0])\n",
    "for i in range(len(y)):\n",
    "    A += np.outer(x[i], x[i].T)\n",
    "    B += y[i]*x[i].T\n",
    "\n",
    "print A[0][0], A[0][1], A[1][0], A[1][1], B[0], B[1]\n",
    "```  "
   ]
  },
  {
   "cell_type": "markdown",
   "metadata": {},
   "source": [
    "Here is my reducer:"
   ]
  },
  {
   "cell_type": "markdown",
   "metadata": {},
   "source": [
    "```\n",
    "import numpy as np\n",
    "import sys\n",
    "\n",
    "A = np.array([[0,0],[0,0]])\n",
    "B = np.array([0,0])\n",
    "\n",
    "for line in sys.stdin:\n",
    "    temp = [float(x) for x in line.split()]\n",
    "    tempA = np.array([[temp[0], temp[1]],[temp[2], temp[3]]])\n",
    "    tempB = np.array([temp[4], temp[5]])\n",
    "    A += tempA\n",
    "    B += tempB\n",
    "\n",
    "A_inverse = np.linalg.inv(A)\n",
    "out = np.dot(A_inverse, B)\n",
    "print out\n",
    "```"
   ]
  },
  {
   "cell_type": "markdown",
   "metadata": {},
   "source": [
    "As usual, to run this job, you can use a command like the following:\n",
    "\n",
    "```\n",
    "hadoop jar /usr/local/hadoop/share/hadoop/tools/lib/hadoop-streaming-2.6.0.jar -file mapper_regress.py -mapper \"python mapper_regress.py\" -file reducer_regress.py -reducer \"python reducer_regress.py\" -input /user/hduser/regress/* -output /user/hduser/regress_out\n",
    "\n",
    "```\n"
   ]
  }
 ],
 "metadata": {
  "kernelspec": {
   "display_name": "Python 3",
   "language": "python",
   "name": "python3"
  },
  "language_info": {
   "codemirror_mode": {
    "name": "ipython",
    "version": 3
   },
   "file_extension": ".py",
   "mimetype": "text/x-python",
   "name": "python",
   "nbconvert_exporter": "python",
   "pygments_lexer": "ipython3",
   "version": "3.4.1"
  }
 },
 "nbformat": 4,
 "nbformat_minor": 0
}
