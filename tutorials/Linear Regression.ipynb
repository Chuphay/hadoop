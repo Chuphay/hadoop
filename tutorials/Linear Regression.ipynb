{
 "metadata": {
  "name": "",
  "signature": "sha256:f8c529ea73cbf39a0592f32f76eaabe092c039cc8c731d86e8373f1012dac0dc"
 },
 "nbformat": 3,
 "nbformat_minor": 0,
 "worksheets": [
  {
   "cells": [
    {
     "cell_type": "heading",
     "level": 1,
     "metadata": {},
     "source": [
      "Linear Regression"
     ]
    },
    {
     "cell_type": "heading",
     "level": 3,
     "metadata": {},
     "source": [
      "Introduction"
     ]
    },
    {
     "cell_type": "markdown",
     "metadata": {},
     "source": [
      "Linear regression is useful.\n",
      "\n",
      "The main idea is to find a line that best matches some data. Here is a pictorial example that will hopefully give you an idea of what we are trying to do."
     ]
    },
    {
     "cell_type": "code",
     "collapsed": false,
     "input": [
      "%pylab inline\n",
      "import numpy as np\n",
      "from numpy.random import normal, uniform\n",
      "\n",
      "data = []\n",
      "for i in range(100):\n",
      "    x = uniform(-10,10)\n",
      "    y = -3 + 2*x + 5*normal()\n",
      "    data.append([x,y])\n",
      "data = np.array(data)\n",
      "x = linspace(-10,10,100)\n",
      "scatter(data[:,0], data[:,1]);\n",
      "plot(x, -3 + 2*x, lw=4, color = 'red');"
     ],
     "language": "python",
     "metadata": {},
     "outputs": [
      {
       "output_type": "stream",
       "stream": "stdout",
       "text": [
        "Populating the interactive namespace from numpy and matplotlib\n"
       ]
      },
      {
       "metadata": {},
       "output_type": "display_data",
       "png": "[encoded data removed]",
       "text": [
        "<matplotlib.figure.Figure at 0xb062182c>"
       ]
      }
     ],
     "prompt_number": 2
    },
    {
     "cell_type": "markdown",
     "metadata": {},
     "source": [
      "Basically, we are just trying to draw a line that best characterizes the data points. As is hopefully obvious, to describe a line, we need two parameters: the intercept and the slope. \n",
      "\n"
     ]
    },
    {
     "cell_type": "code",
     "collapsed": false,
     "input": [
      "fig = plt.figure(1)\n",
      "ax = fig.add_subplot(111)\n",
      "        \n",
      "ax.plot(1, 2, marker = 'o', color = 'black')\n",
      "ax.text(1, 2, r'  $(1,2)$', fontsize=15)  \n",
      "ax.plot(2, 3, marker = 'o', color = 'black')\n",
      "ax.text(2, 3, r'  $(2,3)$', fontsize=15)  \n",
      "ax.plot(3, 4, marker = 'o', color = 'black')\n",
      "ax.text(3, 4, r'  $(3,4)$', fontsize=15)  \n",
      "ylim(0,5)\n",
      "xlim(0,4)\n",
      "plt.show()"
     ],
     "language": "python",
     "metadata": {},
     "outputs": [
      {
       "metadata": {},
       "output_type": "display_data",
       "png": "[encoded data removed]",
       "text": [
        "<matplotlib.figure.Figure at 0xb0531bac>"
       ]
      }
     ],
     "prompt_number": 16
    },
    {
     "cell_type": "markdown",
     "metadata": {},
     "source": [
      "$X = \\begin{bmatrix} 1&1 \\\\ 1&2 \\\\ 1&3 \\end{bmatrix}$ and $Y = \\begin{bmatrix} 2\\\\ 3 \\\\ 4 \\end{bmatrix}$"
     ]
    },
    {
     "cell_type": "markdown",
     "metadata": {},
     "source": [
      "$X^T = \\begin{bmatrix} 1&1&1\\\\1&2&3 \\end{bmatrix}$\n",
      "\n",
      "$X^T X = \\begin{bmatrix} 3&6 \\\\ 6&14 \\end{bmatrix}$\n",
      "\n",
      "$X^T Y = \\begin{bmatrix} 9\\\\ 20 \\end{bmatrix}$"
     ]
    },
    {
     "cell_type": "markdown",
     "metadata": {},
     "source": [
      "$(X^T X)^{-1} = \\begin{bmatrix} 2.333&-1 \\\\ -1&0.5 \\end{bmatrix}$\n",
      "\n",
      "$(X^T X)^{-1} X^T Y = \\begin{bmatrix} 2.333&-1 \\\\ -1&0.5 \\end{bmatrix} \\begin{bmatrix} 9\\\\ 20 \\end{bmatrix} = \\begin{bmatrix} 1\\\\ 1 \\end{bmatrix}$"
     ]
    },
    {
     "cell_type": "markdown",
     "metadata": {},
     "source": [
      "We solve to get $\\theta^* = \\min_{\\theta} \\sum (\\theta^T x_i - y_i)^2$ We solve this like $\\theta^* = (X^T X)^{-1} X^T Y $\n",
      "\n",
      "We can solve this in this cool way like this: $\\theta^* = A^{-1} b$ Where \n",
      "\n",
      "$A = \\sum (x_i x_i^T) ~~~~~~~~$       #This is the outer product!\n",
      "\n",
      "and \n",
      "\n",
      "$b = \\sum (x_i y_i)$\n",
      "\n"
     ]
    },
    {
     "cell_type": "markdown",
     "metadata": {},
     "source": [
      "$A = \\begin{bmatrix} 1 \\\\ 1\\end{bmatrix}\\begin{bmatrix} 1 & 1\\end{bmatrix} + \\begin{bmatrix} 1 \\\\ 2\\end{bmatrix}\\begin{bmatrix} 1 & 2\\end{bmatrix} + \\begin{bmatrix} 1 \\\\ 3\\end{bmatrix}\\begin{bmatrix} 1 & 3\\end{bmatrix} = \\begin{bmatrix} 1&1 \\\\ 1&1 \\end{bmatrix} +\\begin{bmatrix} 1&2 \\\\ 2&4 \\end{bmatrix}+\\begin{bmatrix} 1&3 \\\\ 3&9 \\end{bmatrix}=\n",
      "\\begin{bmatrix} 3&6 \\\\ 6&14 \\end{bmatrix}$"
     ]
    },
    {
     "cell_type": "markdown",
     "metadata": {},
     "source": [
      "$b = \\begin{bmatrix} 2 \\\\ 2\\end{bmatrix}+\\begin{bmatrix} 3 \\\\ 6\\end{bmatrix}+\\begin{bmatrix} 4 \\\\ 12\\end{bmatrix} = \\begin{bmatrix} 9 \\\\ 20\\end{bmatrix}$"
     ]
    },
    {
     "cell_type": "code",
     "collapsed": false,
     "input": [],
     "language": "python",
     "metadata": {},
     "outputs": []
    }
   ],
   "metadata": {}
  }
 ]
}