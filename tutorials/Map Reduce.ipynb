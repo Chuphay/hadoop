{
 "cells": [
  {
   "cell_type": "markdown",
   "metadata": {},
   "source": [
    "# Map Reduce"
   ]
  },
  {
   "cell_type": "markdown",
   "metadata": {},
   "source": [
    "In 2003, Ghemawat and Dean wrote a program to greatly simplify the use of parallel and distributed systems, which they have outlined in their [paper.](http://static.googleusercontent.com/media/research.google.com/en/us/archive/mapreduce-osdi04.pdf) Their program was able to take care of the details of partioning the data over numerous computers, scheduling which programs ran at which time and on which machine, managing the necessary between computer communication, and managing what happens when an error occurs. Their program allows everyday programmers to use vast clusters of commodity machines without any particular experience using parallel or distributed systems. "
   ]
  },
  {
   "cell_type": "markdown",
   "metadata": {},
   "source": [
    "They were able to accomplish this by restricting what the program user was allowed to do. In fact, the program user is only allowed to supply two functions: a mapper and a reducer."
   ]
  },
  {
   "cell_type": "markdown",
   "metadata": {},
   "source": [
    "Even with this restriction, many real world programs are programmable using just map and reduce. To get a feeling for how this works, let us take a look at map and reduce separately."
   ]
  },
  {
   "cell_type": "markdown",
   "metadata": {},
   "source": [
    "### Map"
   ]
  },
  {
   "cell_type": "markdown",
   "metadata": {},
   "source": [
    "To follow along with this tutorial, one should use Python 2.7. If you are unfortunate and somehow you are running Python 3.4 on your home computer, please SSH into almost any linux server and python 2.7 should hopefully be available. "
   ]
  },
  {
   "cell_type": "markdown",
   "metadata": {},
   "source": [
    "Map is a pretty straightforward concept, but it was slightly miss-named. A much better name would have been apply, because what we will be doing is applying a function to a list. Let's see how this works.\n",
    "\n",
    "Suppose you are given a list of numbers like \n",
    "\n",
    "```\n",
    "1 2 3 4 5 6 7 8 9 10 11\n",
    "```\n",
    "and you want to square each of the numbers.\n",
    "\n",
    "What you need to do then is to apply a funtion that squares each number, so that the final output is\n",
    "\n",
    "```\n",
    "1 4 9 16 25 36 49 64 81 100 121\n",
    "```\n",
    "And, believe it or not, that is essentially all that a map function does. Let's program that up in Python: \n"
   ]
  },
  {
   "cell_type": "code",
   "execution_count": 2,
   "metadata": {
    "collapsed": false
   },
   "outputs": [
    {
     "data": {
      "text/plain": [
       "[1, 4, 9, 16, 25, 36, 49, 64, 81, 100, 121]"
      ]
     },
     "execution_count": 2,
     "metadata": {},
     "output_type": "execute_result"
    }
   ],
   "source": [
    "#First, we start off with the list of numbers:\n",
    "x = [1, 2, 3, 4, 5, 6, 7, 8, 9, 10, 11]\n",
    "\n",
    "#Now, we simply define the function that we want to apply to our list:\n",
    "def square(x):\n",
    "    return x*x\n",
    "\n",
    "#Finally, we apply our function to each member of the list:\n",
    "map(square, x)"
   ]
  },
  {
   "cell_type": "markdown",
   "metadata": {},
   "source": [
    "As you can tell, map is really straight forward. We create a function, and then we apply that function to every element in the data set that we are processing. Let us move on to the Reduce function."
   ]
  },
  {
   "cell_type": "markdown",
   "metadata": {},
   "source": [
    "### Reduce"
   ]
  },
  {
   "cell_type": "markdown",
   "metadata": {},
   "source": [
    "Reduce is only slightly more complicated than map."
   ]
  }
 ],
 "metadata": {
  "kernelspec": {
   "display_name": "Python 2",
   "language": "python",
   "name": "python2"
  },
  "language_info": {
   "codemirror_mode": {
    "name": "ipython",
    "version": 2
   },
   "file_extension": ".py",
   "mimetype": "text/x-python",
   "name": "python",
   "nbconvert_exporter": "python",
   "pygments_lexer": "ipython2",
   "version": "2.7.6"
  }
 },
 "nbformat": 4,
 "nbformat_minor": 0
}
