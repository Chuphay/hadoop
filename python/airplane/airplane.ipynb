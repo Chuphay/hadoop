{
 "cells": [
  {
   "cell_type": "code",
   "execution_count": 2,
   "metadata": {
    "collapsed": false
   },
   "outputs": [
    {
     "name": "stdout",
     "output_type": "stream",
     "text": [
      "Populating the interactive namespace from numpy and matplotlib\n"
     ]
    }
   ],
   "source": [
    "%pylab inline\n",
    "from pandas import read_csv"
   ]
  },
  {
   "cell_type": "code",
   "execution_count": 3,
   "metadata": {
    "collapsed": false
   },
   "outputs": [],
   "source": [
    "df = read_csv(\"1987_top1000.csv\")"
   ]
  },
  {
   "cell_type": "code",
   "execution_count": 4,
   "metadata": {
    "collapsed": false
   },
   "outputs": [
    {
     "data": {
      "text/html": [
       "<div style=\"max-height:1000px;max-width:1500px;overflow:auto;\">\n",
       "<table border=\"1\" class=\"dataframe\">\n",
       "  <thead>\n",
       "    <tr style=\"text-align: right;\">\n",
       "      <th></th>\n",
       "      <th>Year</th>\n",
       "      <th>Month</th>\n",
       "      <th>DayofMonth</th>\n",
       "      <th>DayOfWeek</th>\n",
       "      <th>DepTime</th>\n",
       "      <th>CRSDepTime</th>\n",
       "      <th>ArrTime</th>\n",
       "      <th>CRSArrTime</th>\n",
       "      <th>UniqueCarrier</th>\n",
       "      <th>FlightNum</th>\n",
       "      <th>...</th>\n",
       "      <th>TaxiIn</th>\n",
       "      <th>TaxiOut</th>\n",
       "      <th>Cancelled</th>\n",
       "      <th>CancellationCode</th>\n",
       "      <th>Diverted</th>\n",
       "      <th>CarrierDelay</th>\n",
       "      <th>WeatherDelay</th>\n",
       "      <th>NASDelay</th>\n",
       "      <th>SecurityDelay</th>\n",
       "      <th>LateAircraftDelay</th>\n",
       "    </tr>\n",
       "  </thead>\n",
       "  <tbody>\n",
       "    <tr>\n",
       "      <th>0</th>\n",
       "      <td> 1987</td>\n",
       "      <td> 10</td>\n",
       "      <td> 14</td>\n",
       "      <td> 3</td>\n",
       "      <td> 741</td>\n",
       "      <td> 730</td>\n",
       "      <td> 912</td>\n",
       "      <td> 849</td>\n",
       "      <td> PS</td>\n",
       "      <td> 1451</td>\n",
       "      <td>...</td>\n",
       "      <td>NaN</td>\n",
       "      <td>NaN</td>\n",
       "      <td> 0</td>\n",
       "      <td>NaN</td>\n",
       "      <td> 0</td>\n",
       "      <td>NaN</td>\n",
       "      <td>NaN</td>\n",
       "      <td>NaN</td>\n",
       "      <td>NaN</td>\n",
       "      <td>NaN</td>\n",
       "    </tr>\n",
       "    <tr>\n",
       "      <th>1</th>\n",
       "      <td> 1987</td>\n",
       "      <td> 10</td>\n",
       "      <td> 15</td>\n",
       "      <td> 4</td>\n",
       "      <td> 729</td>\n",
       "      <td> 730</td>\n",
       "      <td> 903</td>\n",
       "      <td> 849</td>\n",
       "      <td> PS</td>\n",
       "      <td> 1451</td>\n",
       "      <td>...</td>\n",
       "      <td>NaN</td>\n",
       "      <td>NaN</td>\n",
       "      <td> 0</td>\n",
       "      <td>NaN</td>\n",
       "      <td> 0</td>\n",
       "      <td>NaN</td>\n",
       "      <td>NaN</td>\n",
       "      <td>NaN</td>\n",
       "      <td>NaN</td>\n",
       "      <td>NaN</td>\n",
       "    </tr>\n",
       "    <tr>\n",
       "      <th>2</th>\n",
       "      <td> 1987</td>\n",
       "      <td> 10</td>\n",
       "      <td> 17</td>\n",
       "      <td> 6</td>\n",
       "      <td> 741</td>\n",
       "      <td> 730</td>\n",
       "      <td> 918</td>\n",
       "      <td> 849</td>\n",
       "      <td> PS</td>\n",
       "      <td> 1451</td>\n",
       "      <td>...</td>\n",
       "      <td>NaN</td>\n",
       "      <td>NaN</td>\n",
       "      <td> 0</td>\n",
       "      <td>NaN</td>\n",
       "      <td> 0</td>\n",
       "      <td>NaN</td>\n",
       "      <td>NaN</td>\n",
       "      <td>NaN</td>\n",
       "      <td>NaN</td>\n",
       "      <td>NaN</td>\n",
       "    </tr>\n",
       "    <tr>\n",
       "      <th>3</th>\n",
       "      <td> 1987</td>\n",
       "      <td> 10</td>\n",
       "      <td> 18</td>\n",
       "      <td> 7</td>\n",
       "      <td> 729</td>\n",
       "      <td> 730</td>\n",
       "      <td> 847</td>\n",
       "      <td> 849</td>\n",
       "      <td> PS</td>\n",
       "      <td> 1451</td>\n",
       "      <td>...</td>\n",
       "      <td>NaN</td>\n",
       "      <td>NaN</td>\n",
       "      <td> 0</td>\n",
       "      <td>NaN</td>\n",
       "      <td> 0</td>\n",
       "      <td>NaN</td>\n",
       "      <td>NaN</td>\n",
       "      <td>NaN</td>\n",
       "      <td>NaN</td>\n",
       "      <td>NaN</td>\n",
       "    </tr>\n",
       "    <tr>\n",
       "      <th>4</th>\n",
       "      <td> 1987</td>\n",
       "      <td> 10</td>\n",
       "      <td> 19</td>\n",
       "      <td> 1</td>\n",
       "      <td> 749</td>\n",
       "      <td> 730</td>\n",
       "      <td> 922</td>\n",
       "      <td> 849</td>\n",
       "      <td> PS</td>\n",
       "      <td> 1451</td>\n",
       "      <td>...</td>\n",
       "      <td>NaN</td>\n",
       "      <td>NaN</td>\n",
       "      <td> 0</td>\n",
       "      <td>NaN</td>\n",
       "      <td> 0</td>\n",
       "      <td>NaN</td>\n",
       "      <td>NaN</td>\n",
       "      <td>NaN</td>\n",
       "      <td>NaN</td>\n",
       "      <td>NaN</td>\n",
       "    </tr>\n",
       "  </tbody>\n",
       "</table>\n",
       "<p>5 rows × 29 columns</p>\n",
       "</div>"
      ],
      "text/plain": [
       "   Year  Month  DayofMonth  DayOfWeek  DepTime  CRSDepTime  ArrTime  \\\n",
       "0  1987     10          14          3      741         730      912   \n",
       "1  1987     10          15          4      729         730      903   \n",
       "2  1987     10          17          6      741         730      918   \n",
       "3  1987     10          18          7      729         730      847   \n",
       "4  1987     10          19          1      749         730      922   \n",
       "\n",
       "   CRSArrTime UniqueCarrier  FlightNum    ...      TaxiIn  TaxiOut  Cancelled  \\\n",
       "0         849            PS       1451    ...         NaN      NaN          0   \n",
       "1         849            PS       1451    ...         NaN      NaN          0   \n",
       "2         849            PS       1451    ...         NaN      NaN          0   \n",
       "3         849            PS       1451    ...         NaN      NaN          0   \n",
       "4         849            PS       1451    ...         NaN      NaN          0   \n",
       "\n",
       "   CancellationCode  Diverted  CarrierDelay WeatherDelay NASDelay  \\\n",
       "0               NaN         0           NaN          NaN      NaN   \n",
       "1               NaN         0           NaN          NaN      NaN   \n",
       "2               NaN         0           NaN          NaN      NaN   \n",
       "3               NaN         0           NaN          NaN      NaN   \n",
       "4               NaN         0           NaN          NaN      NaN   \n",
       "\n",
       "   SecurityDelay  LateAircraftDelay  \n",
       "0            NaN                NaN  \n",
       "1            NaN                NaN  \n",
       "2            NaN                NaN  \n",
       "3            NaN                NaN  \n",
       "4            NaN                NaN  \n",
       "\n",
       "[5 rows x 29 columns]"
      ]
     },
     "execution_count": 4,
     "metadata": {},
     "output_type": "execute_result"
    }
   ],
   "source": [
    "df.head()\n"
   ]
  },
  {
   "cell_type": "code",
   "execution_count": 5,
   "metadata": {
    "collapsed": false
   },
   "outputs": [
    {
     "data": {
      "text/plain": [
       "Year                 1987\n",
       "Month                  10\n",
       "DayofMonth             14\n",
       "DayOfWeek               3\n",
       "DepTime               741\n",
       "CRSDepTime            730\n",
       "ArrTime               912\n",
       "CRSArrTime            849\n",
       "UniqueCarrier          PS\n",
       "FlightNum            1451\n",
       "TailNum               NaN\n",
       "ActualElapsedTime      91\n",
       "CRSElapsedTime         79\n",
       "AirTime               NaN\n",
       "ArrDelay               23\n",
       "DepDelay               11\n",
       "Origin                SAN\n",
       "Dest                  SFO\n",
       "Distance              447\n",
       "TaxiIn                NaN\n",
       "TaxiOut               NaN\n",
       "Cancelled               0\n",
       "CancellationCode      NaN\n",
       "Diverted                0\n",
       "CarrierDelay          NaN\n",
       "WeatherDelay          NaN\n",
       "NASDelay              NaN\n",
       "SecurityDelay         NaN\n",
       "LateAircraftDelay     NaN\n",
       "Name: 0, dtype: object"
      ]
     },
     "execution_count": 5,
     "metadata": {},
     "output_type": "execute_result"
    }
   ],
   "source": [
    "df.ix[0]"
   ]
  },
  {
   "cell_type": "code",
   "execution_count": 6,
   "metadata": {
    "collapsed": false
   },
   "outputs": [
    {
     "name": "stdout",
     "output_type": "stream",
     "text": [
      "23.0 59\n"
     ]
    }
   ],
   "source": [
    "print(df.ix[0][\"ArrDelay\"],max(df[\"CRSArrTime\"]%100))"
   ]
  },
  {
   "cell_type": "code",
   "execution_count": 7,
   "metadata": {
    "collapsed": false
   },
   "outputs": [
    {
     "data": {
      "image/png": "[encoded data removed]",
      "text/plain": [
       "<matplotlib.figure.Figure at 0xb226878c>"
      ]
     },
     "metadata": {},
     "output_type": "display_data"
    }
   ],
   "source": [
    "arrDelay = df[\"ArrDelay\"].values\n",
    "arrDelay = arrDelay[~np.isnan(arrDelay)]\n",
    "hist(arrDelay);"
   ]
  },
  {
   "cell_type": "code",
   "execution_count": 8,
   "metadata": {
    "collapsed": false
   },
   "outputs": [
    {
     "data": {
      "text/plain": [
       "8.0"
      ]
     },
     "execution_count": 8,
     "metadata": {},
     "output_type": "execute_result"
    }
   ],
   "source": [
    "median(arrDelay)"
   ]
  },
  {
   "cell_type": "code",
   "execution_count": 9,
   "metadata": {
    "collapsed": true
   },
   "outputs": [],
   "source": [
    "big_df = read_csv(\"1987.csv\")"
   ]
  },
  {
   "cell_type": "code",
   "execution_count": 10,
   "metadata": {
    "collapsed": true
   },
   "outputs": [],
   "source": [
    "big_arrDelay = big_df[\"ArrDelay\"].values\n",
    "big_arrDelay = big_arrDelay[~np.isnan(big_arrDelay)]"
   ]
  },
  {
   "cell_type": "code",
   "execution_count": 11,
   "metadata": {
    "collapsed": false
   },
   "outputs": [
    {
     "data": {
      "text/plain": [
       "1288326"
      ]
     },
     "execution_count": 11,
     "metadata": {},
     "output_type": "execute_result"
    }
   ],
   "source": [
    "len(big_arrDelay)"
   ]
  },
  {
   "cell_type": "code",
   "execution_count": 12,
   "metadata": {
    "collapsed": false
   },
   "outputs": [
    {
     "data": {
      "text/plain": [
       "109"
      ]
     },
     "execution_count": 12,
     "metadata": {},
     "output_type": "execute_result"
    }
   ],
   "source": [
    "sum(big_arrDelay < -100)"
   ]
  },
  {
   "cell_type": "markdown",
   "metadata": {},
   "source": [
    "We should look into those 109 ... but I'll just keep on going"
   ]
  },
  {
   "cell_type": "code",
   "execution_count": 13,
   "metadata": {
    "collapsed": true
   },
   "outputs": [],
   "source": [
    "big_arrDelay = big_arrDelay[~ (big_arrDelay < -100)]"
   ]
  },
  {
   "cell_type": "code",
   "execution_count": 14,
   "metadata": {
    "collapsed": false
   },
   "outputs": [
    {
     "data": {
      "image/png": "[encoded data removed]",
      "text/plain": [
       "<matplotlib.figure.Figure at 0xad433b6c>"
      ]
     },
     "metadata": {},
     "output_type": "display_data"
    }
   ],
   "source": [
    "hist(big_arrDelay);"
   ]
  },
  {
   "cell_type": "code",
   "execution_count": 15,
   "metadata": {
    "collapsed": false
   },
   "outputs": [
    {
     "data": {
      "text/plain": [
       "4.0"
      ]
     },
     "execution_count": 15,
     "metadata": {},
     "output_type": "execute_result"
    }
   ],
   "source": [
    "median(big_arrDelay)"
   ]
  },
  {
   "cell_type": "code",
   "execution_count": 16,
   "metadata": {
    "collapsed": false
   },
   "outputs": [
    {
     "data": {
      "text/plain": [
       "9.5032894302745579"
      ]
     },
     "execution_count": 16,
     "metadata": {},
     "output_type": "execute_result"
    }
   ],
   "source": [
    "mean(big_arrDelay)"
   ]
  },
  {
   "cell_type": "code",
   "execution_count": 17,
   "metadata": {
    "collapsed": false
   },
   "outputs": [
    {
     "data": {
      "text/plain": [
       "0.62737333849809462"
      ]
     },
     "execution_count": 17,
     "metadata": {},
     "output_type": "execute_result"
    }
   ],
   "source": [
    "mean(big_arrDelay>0)"
   ]
  },
  {
   "cell_type": "code",
   "execution_count": 18,
   "metadata": {
    "collapsed": false
   },
   "outputs": [
    {
     "data": {
      "text/plain": [
       "0.24279294559845119"
      ]
     },
     "execution_count": 18,
     "metadata": {},
     "output_type": "execute_result"
    }
   ],
   "source": [
    "mean(big_arrDelay>=15)"
   ]
  },
  {
   "cell_type": "code",
   "execution_count": 19,
   "metadata": {
    "collapsed": false
   },
   "outputs": [
    {
     "name": "stdout",
     "output_type": "stream",
     "text": [
      "number 808193\n",
      "808193 \n",
      "\n"
     ]
    }
   ],
   "source": [
    "big_delay = big_df[big_df[\"ArrDelay\"]>0]\n",
    "print(\"number\", len(big_delay))\n",
    "print(sum(big_delay[\"Month\"] >= 10), \"\\n\")\n",
    "#,big_delay[\"DayofMonth\"])"
   ]
  },
  {
   "cell_type": "code",
   "execution_count": 20,
   "metadata": {
    "collapsed": false
   },
   "outputs": [
    {
     "data": {
      "text/plain": [
       "1311826"
      ]
     },
     "execution_count": 20,
     "metadata": {},
     "output_type": "execute_result"
    }
   ],
   "source": [
    "sum(big_df[\"Month\"] >= 10)"
   ]
  },
  {
   "cell_type": "code",
   "execution_count": 21,
   "metadata": {
    "collapsed": false
   },
   "outputs": [
    {
     "data": {
      "text/plain": [
       "1311826"
      ]
     },
     "execution_count": 21,
     "metadata": {},
     "output_type": "execute_result"
    }
   ],
   "source": [
    "sum(big_df[\"Month\"] >= 0)"
   ]
  },
  {
   "cell_type": "code",
   "execution_count": 22,
   "metadata": {
    "collapsed": false
   },
   "outputs": [
    {
     "data": {
      "text/plain": [
       "237"
      ]
     },
     "execution_count": 22,
     "metadata": {},
     "output_type": "execute_result"
    }
   ],
   "source": [
    "len(set(big_df[\"Origin\"]))"
   ]
  },
  {
   "cell_type": "code",
   "execution_count": 26,
   "metadata": {
    "collapsed": false
   },
   "outputs": [
    {
     "data": {
      "text/plain": [
       "'FLG'"
      ]
     },
     "execution_count": 26,
     "metadata": {},
     "output_type": "execute_result"
    }
   ],
   "source": [
    "origins = list(set(big_df[\"Origin\"]))\n",
    "origins[0]"
   ]
  },
  {
   "cell_type": "code",
   "execution_count": 35,
   "metadata": {
    "collapsed": true
   },
   "outputs": [],
   "source": [
    "import pickle"
   ]
  },
  {
   "cell_type": "markdown",
   "metadata": {
    "collapsed": true
   },
   "source": [
    "```\n",
    "num_origins = {}\n",
    "for origin in origins:\n",
    "    temp_df = big_df[big_df[\"Origin\"] == origin]   \n",
    "    num_origins[origin] = {'total' :len(temp_df), 'percent_late':mean(temp_df[\"ArrDelay\"]>=15)}\n",
    "   \n",
    "pickle.dump(num_origins, open(\"1987num_origins.pickle\", \"wb\"))\n",
    "```"
   ]
  },
  {
   "cell_type": "code",
   "execution_count": 66,
   "metadata": {
    "collapsed": false
   },
   "outputs": [],
   "source": [
    "num_origins = pickle.load(open( \"1987num_origins.pickle\", \"rb\" ))\n",
    "#num_origins"
   ]
  },
  {
   "cell_type": "code",
   "execution_count": 53,
   "metadata": {
    "collapsed": true
   },
   "outputs": [],
   "source": [
    "from pandas import DataFrame"
   ]
  },
  {
   "cell_type": "code",
   "execution_count": 58,
   "metadata": {
    "collapsed": true
   },
   "outputs": [],
   "source": [
    "origin_df = DataFrame(num_origins).T"
   ]
  },
  {
   "cell_type": "code",
   "execution_count": 60,
   "metadata": {
    "collapsed": false
   },
   "outputs": [
    {
     "data": {
      "text/html": [
       "<div style=\"max-height:1000px;max-width:1500px;overflow:auto;\">\n",
       "<table border=\"1\" class=\"dataframe\">\n",
       "  <thead>\n",
       "    <tr style=\"text-align: right;\">\n",
       "      <th></th>\n",
       "      <th>percent_late</th>\n",
       "      <th>total</th>\n",
       "    </tr>\n",
       "  </thead>\n",
       "  <tbody>\n",
       "    <tr>\n",
       "      <th>ABE</th>\n",
       "      <td> 0.143879</td>\n",
       "      <td> 1258</td>\n",
       "    </tr>\n",
       "    <tr>\n",
       "      <th>ABQ</th>\n",
       "      <td> 0.193110</td>\n",
       "      <td> 7866</td>\n",
       "    </tr>\n",
       "    <tr>\n",
       "      <th>ACV</th>\n",
       "      <td> 0.451895</td>\n",
       "      <td>  343</td>\n",
       "    </tr>\n",
       "    <tr>\n",
       "      <th>AGS</th>\n",
       "      <td> 0.158933</td>\n",
       "      <td>  862</td>\n",
       "    </tr>\n",
       "    <tr>\n",
       "      <th>ALB</th>\n",
       "      <td> 0.242300</td>\n",
       "      <td> 2922</td>\n",
       "    </tr>\n",
       "  </tbody>\n",
       "</table>\n",
       "</div>"
      ],
      "text/plain": [
       "     percent_late  total\n",
       "ABE      0.143879   1258\n",
       "ABQ      0.193110   7866\n",
       "ACV      0.451895    343\n",
       "AGS      0.158933    862\n",
       "ALB      0.242300   2922"
      ]
     },
     "execution_count": 60,
     "metadata": {},
     "output_type": "execute_result"
    }
   ],
   "source": [
    "origin_df.head()"
   ]
  },
  {
   "cell_type": "code",
   "execution_count": 62,
   "metadata": {
    "collapsed": false
   },
   "outputs": [
    {
     "data": {
      "text/html": [
       "<div style=\"max-height:1000px;max-width:1500px;overflow:auto;\">\n",
       "<table border=\"1\" class=\"dataframe\">\n",
       "  <thead>\n",
       "    <tr style=\"text-align: right;\">\n",
       "      <th></th>\n",
       "      <th>percent_late</th>\n",
       "      <th>total</th>\n",
       "    </tr>\n",
       "  </thead>\n",
       "  <tbody>\n",
       "    <tr>\n",
       "      <th>ACV</th>\n",
       "      <td> 0.451895</td>\n",
       "      <td>   343</td>\n",
       "    </tr>\n",
       "    <tr>\n",
       "      <th>BWI</th>\n",
       "      <td> 0.304458</td>\n",
       "      <td> 16242</td>\n",
       "    </tr>\n",
       "    <tr>\n",
       "      <th>CLT</th>\n",
       "      <td> 0.338975</td>\n",
       "      <td> 24518</td>\n",
       "    </tr>\n",
       "    <tr>\n",
       "      <th>CVG</th>\n",
       "      <td> 0.364723</td>\n",
       "      <td> 15483</td>\n",
       "    </tr>\n",
       "    <tr>\n",
       "      <th>DAY</th>\n",
       "      <td> 0.307701</td>\n",
       "      <td>  9259</td>\n",
       "    </tr>\n",
       "    <tr>\n",
       "      <th>EUG</th>\n",
       "      <td> 0.311224</td>\n",
       "      <td>  1176</td>\n",
       "    </tr>\n",
       "    <tr>\n",
       "      <th>GUC</th>\n",
       "      <td> 0.379310</td>\n",
       "      <td>    29</td>\n",
       "    </tr>\n",
       "    <tr>\n",
       "      <th>HDN</th>\n",
       "      <td> 0.359375</td>\n",
       "      <td>    64</td>\n",
       "    </tr>\n",
       "    <tr>\n",
       "      <th>JFK</th>\n",
       "      <td> 0.302860</td>\n",
       "      <td> 12273</td>\n",
       "    </tr>\n",
       "    <tr>\n",
       "      <th>KOA</th>\n",
       "      <td> 0.314465</td>\n",
       "      <td>   159</td>\n",
       "    </tr>\n",
       "    <tr>\n",
       "      <th>LAX</th>\n",
       "      <td> 0.351400</td>\n",
       "      <td> 45646</td>\n",
       "    </tr>\n",
       "    <tr>\n",
       "      <th>LGB</th>\n",
       "      <td> 0.339774</td>\n",
       "      <td>  2122</td>\n",
       "    </tr>\n",
       "    <tr>\n",
       "      <th>LYH</th>\n",
       "      <td> 0.310811</td>\n",
       "      <td>   444</td>\n",
       "    </tr>\n",
       "    <tr>\n",
       "      <th>MFR</th>\n",
       "      <td> 0.345367</td>\n",
       "      <td>   831</td>\n",
       "    </tr>\n",
       "    <tr>\n",
       "      <th>MHT</th>\n",
       "      <td> 0.342056</td>\n",
       "      <td>   535</td>\n",
       "    </tr>\n",
       "    <tr>\n",
       "      <th>MLU</th>\n",
       "      <td> 0.302508</td>\n",
       "      <td>   638</td>\n",
       "    </tr>\n",
       "    <tr>\n",
       "      <th>PIR</th>\n",
       "      <td> 1.000000</td>\n",
       "      <td>     1</td>\n",
       "    </tr>\n",
       "    <tr>\n",
       "      <th>RDD</th>\n",
       "      <td> 0.380117</td>\n",
       "      <td>   342</td>\n",
       "    </tr>\n",
       "    <tr>\n",
       "      <th>SFO</th>\n",
       "      <td> 0.371839</td>\n",
       "      <td> 35155</td>\n",
       "    </tr>\n",
       "    <tr>\n",
       "      <th>SIT</th>\n",
       "      <td> 0.340426</td>\n",
       "      <td>   282</td>\n",
       "    </tr>\n",
       "    <tr>\n",
       "      <th>STX</th>\n",
       "      <td> 0.356841</td>\n",
       "      <td>   709</td>\n",
       "    </tr>\n",
       "  </tbody>\n",
       "</table>\n",
       "</div>"
      ],
      "text/plain": [
       "     percent_late  total\n",
       "ACV      0.451895    343\n",
       "BWI      0.304458  16242\n",
       "CLT      0.338975  24518\n",
       "CVG      0.364723  15483\n",
       "DAY      0.307701   9259\n",
       "EUG      0.311224   1176\n",
       "GUC      0.379310     29\n",
       "HDN      0.359375     64\n",
       "JFK      0.302860  12273\n",
       "KOA      0.314465    159\n",
       "LAX      0.351400  45646\n",
       "LGB      0.339774   2122\n",
       "LYH      0.310811    444\n",
       "MFR      0.345367    831\n",
       "MHT      0.342056    535\n",
       "MLU      0.302508    638\n",
       "PIR      1.000000      1\n",
       "RDD      0.380117    342\n",
       "SFO      0.371839  35155\n",
       "SIT      0.340426    282\n",
       "STX      0.356841    709"
      ]
     },
     "execution_count": 62,
     "metadata": {},
     "output_type": "execute_result"
    }
   ],
   "source": [
    "origin_df[origin_df[\"percent_late\"]>0.3]"
   ]
  },
  {
   "cell_type": "code",
   "execution_count": 63,
   "metadata": {
    "collapsed": false
   },
   "outputs": [
    {
     "data": {
      "text/plain": [
       "166251.0"
      ]
     },
     "execution_count": 63,
     "metadata": {},
     "output_type": "execute_result"
    }
   ],
   "source": [
    "sum(origin_df[origin_df[\"percent_late\"]>0.24][\"total\"])"
   ]
  },
  {
   "cell_type": "code",
   "execution_count": 68,
   "metadata": {
    "collapsed": false
   },
   "outputs": [
    {
     "data": {
      "text/plain": [
       "1311826.0"
      ]
     },
     "execution_count": 68,
     "metadata": {},
     "output_type": "execute_result"
    }
   ],
   "source": [
    "sum(origin_df[origin_df[\"percent_late\"]>=0.0][\"total\"])"
   ]
  },
  {
   "cell_type": "code",
   "execution_count": 69,
   "metadata": {
    "collapsed": false
   },
   "outputs": [
    {
     "data": {
      "text/plain": [
       "0.4836426477291958"
      ]
     },
     "execution_count": 69,
     "metadata": {},
     "output_type": "execute_result"
    }
   ],
   "source": [
    "sum(origin_df[origin_df[\"percent_late\"]>0.24][\"total\"])/sum(origin_df[origin_df[\"percent_late\"]>=0.0][\"total\"])"
   ]
  },
  {
   "cell_type": "code",
   "execution_count": 80,
   "metadata": {
    "collapsed": false
   },
   "outputs": [
    {
     "data": {
      "text/plain": [
       "0.74366265038198665"
      ]
     },
     "execution_count": 80,
     "metadata": {},
     "output_type": "execute_result"
    }
   ],
   "source": [
    "mean(big_df[\"ArrDelay\"] < 15)"
   ]
  },
  {
   "cell_type": "code",
   "execution_count": 86,
   "metadata": {
    "collapsed": false
   },
   "outputs": [
    {
     "data": {
      "text/plain": [
       "0.76157661153232215"
      ]
     },
     "execution_count": 86,
     "metadata": {},
     "output_type": "execute_result"
    }
   ],
   "source": [
    "predict_df = DataFrame({\"delayed\":big_df[\"ArrDelay\"] >= 15})\n",
    "predict_df[\"prediction\"] = False\n",
    "mean(predict_df[\"delayed\"] == predict_df[\"prediction\"])"
   ]
  },
  {
   "cell_type": "code",
   "execution_count": 87,
   "metadata": {
    "collapsed": false
   },
   "outputs": [
    {
     "data": {
      "text/plain": [
       "35155"
      ]
     },
     "execution_count": 87,
     "metadata": {},
     "output_type": "execute_result"
    }
   ],
   "source": [
    "SFO = big_df[big_df[\"Origin\"] == \"SFO\"]\n",
    "len(SFO)"
   ]
  },
  {
   "cell_type": "code",
   "execution_count": 106,
   "metadata": {
    "collapsed": false
   },
   "outputs": [
    {
     "data": {
      "text/plain": [
       "0.24133124733323852"
      ]
     },
     "execution_count": 106,
     "metadata": {},
     "output_type": "execute_result"
    }
   ],
   "source": [
    "mean((SFO[\"ArrDelay\"] >= 15) & (SFO[\"UniqueCarrier\"] != \"UA\"))"
   ]
  },
  {
   "cell_type": "code",
   "execution_count": 111,
   "metadata": {
    "collapsed": false
   },
   "outputs": [
    {
     "data": {
      "text/plain": [
       "0.37783084904883474"
      ]
     },
     "execution_count": 111,
     "metadata": {},
     "output_type": "execute_result"
    }
   ],
   "source": [
    "UA = SFO[SFO[\"UniqueCarrier\"] == \"UA\"]\n",
    "mean(UA[\"ArrDelay\"] >=  15)"
   ]
  },
  {
   "cell_type": "code",
   "execution_count": 113,
   "metadata": {
    "collapsed": false
   },
   "outputs": [
    {
     "data": {
      "text/plain": [
       "14"
      ]
     },
     "execution_count": 113,
     "metadata": {},
     "output_type": "execute_result"
    }
   ],
   "source": [
    "carriers = list(set(big_df[\"UniqueCarrier\"]))\n",
    "len(carriers)"
   ]
  },
  {
   "cell_type": "code",
   "execution_count": 129,
   "metadata": {
    "collapsed": false
   },
   "outputs": [
    {
     "name": "stdout",
     "output_type": "stream",
     "text": [
      "TW\n",
      "HP\n",
      "EA\n",
      "PA (1)\n",
      "DL\n",
      "PI\n",
      "US\n",
      "AA\n",
      "CO\n",
      "NW\n",
      "PS\n",
      "WN\n",
      "AS\n",
      "UA\n"
     ]
    }
   ],
   "source": [
    "#num_carriers = {}\n",
    "#for carrier in carriers:\n",
    "#    print(carrier)\n",
    "#    temp_df = big_df[big_df[\"UniqueCarrier\"] == carrier] \n",
    "    \n",
    "#    num_carriers[carrier] = {'total' :len(temp_df), 'percent_late':mean(temp_df[\"ArrDelay\"]>=15)}\n",
    "#len(num_carriers)\n",
    "#pickle.dump(num_carriers, open(\"1987num_carriers.pickle\", \"wb\"))"
   ]
  },
  {
   "cell_type": "code",
   "execution_count": 130,
   "metadata": {
    "collapsed": false
   },
   "outputs": [
    {
     "data": {
      "text/html": [
       "<div style=\"max-height:1000px;max-width:1500px;overflow:auto;\">\n",
       "<table border=\"1\" class=\"dataframe\">\n",
       "  <thead>\n",
       "    <tr style=\"text-align: right;\">\n",
       "      <th></th>\n",
       "      <th>percent_late</th>\n",
       "      <th>total</th>\n",
       "    </tr>\n",
       "  </thead>\n",
       "  <tbody>\n",
       "    <tr>\n",
       "      <th>AA</th>\n",
       "      <td> 0.177143</td>\n",
       "      <td> 165121</td>\n",
       "    </tr>\n",
       "    <tr>\n",
       "      <th>AS</th>\n",
       "      <td> 0.287349</td>\n",
       "      <td>  21406</td>\n",
       "    </tr>\n",
       "    <tr>\n",
       "      <th>CO</th>\n",
       "      <td> 0.230427</td>\n",
       "      <td> 123002</td>\n",
       "    </tr>\n",
       "    <tr>\n",
       "      <th>DL</th>\n",
       "      <td> 0.289921</td>\n",
       "      <td> 185813</td>\n",
       "    </tr>\n",
       "    <tr>\n",
       "      <th>EA</th>\n",
       "      <td> 0.206792</td>\n",
       "      <td> 108776</td>\n",
       "    </tr>\n",
       "  </tbody>\n",
       "</table>\n",
       "</div>"
      ],
      "text/plain": [
       "    percent_late   total\n",
       "AA      0.177143  165121\n",
       "AS      0.287349   21406\n",
       "CO      0.230427  123002\n",
       "DL      0.289921  185813\n",
       "EA      0.206792  108776"
      ]
     },
     "execution_count": 130,
     "metadata": {},
     "output_type": "execute_result"
    }
   ],
   "source": [
    "num_carriers = pickle.load(open( \"1987num_carriers.pickle\", \"rb\" ))\n",
    "carrier_df = DataFrame(num_carriers).T\n",
    "carrier_df.head()"
   ]
  },
  {
   "cell_type": "code",
   "execution_count": 133,
   "metadata": {
    "collapsed": false
   },
   "outputs": [
    {
     "data": {
      "text/html": [
       "<div style=\"max-height:1000px;max-width:1500px;overflow:auto;\">\n",
       "<table border=\"1\" class=\"dataframe\">\n",
       "  <thead>\n",
       "    <tr style=\"text-align: right;\">\n",
       "      <th></th>\n",
       "      <th>percent_late</th>\n",
       "      <th>total</th>\n",
       "    </tr>\n",
       "  </thead>\n",
       "  <tbody>\n",
       "    <tr>\n",
       "      <th>AA</th>\n",
       "      <td> 0.177143</td>\n",
       "      <td> 165121</td>\n",
       "    </tr>\n",
       "    <tr>\n",
       "      <th>AS</th>\n",
       "      <td> 0.287349</td>\n",
       "      <td>  21406</td>\n",
       "    </tr>\n",
       "    <tr>\n",
       "      <th>CO</th>\n",
       "      <td> 0.230427</td>\n",
       "      <td> 123002</td>\n",
       "    </tr>\n",
       "    <tr>\n",
       "      <th>DL</th>\n",
       "      <td> 0.289921</td>\n",
       "      <td> 185813</td>\n",
       "    </tr>\n",
       "    <tr>\n",
       "      <th>EA</th>\n",
       "      <td> 0.206792</td>\n",
       "      <td> 108776</td>\n",
       "    </tr>\n",
       "    <tr>\n",
       "      <th>HP</th>\n",
       "      <td> 0.225313</td>\n",
       "      <td>  45399</td>\n",
       "    </tr>\n",
       "    <tr>\n",
       "      <th>NW</th>\n",
       "      <td> 0.270086</td>\n",
       "      <td> 108273</td>\n",
       "    </tr>\n",
       "    <tr>\n",
       "      <th>PA (1)</th>\n",
       "      <td> 0.216324</td>\n",
       "      <td>  16785</td>\n",
       "    </tr>\n",
       "    <tr>\n",
       "      <th>PI</th>\n",
       "      <td> 0.242604</td>\n",
       "      <td> 116482</td>\n",
       "    </tr>\n",
       "    <tr>\n",
       "      <th>PS</th>\n",
       "      <td> 0.339687</td>\n",
       "      <td>  41706</td>\n",
       "    </tr>\n",
       "    <tr>\n",
       "      <th>TW</th>\n",
       "      <td> 0.244968</td>\n",
       "      <td>  69650</td>\n",
       "    </tr>\n",
       "    <tr>\n",
       "      <th>UA</th>\n",
       "      <td> 0.230717</td>\n",
       "      <td> 152624</td>\n",
       "    </tr>\n",
       "    <tr>\n",
       "      <th>US</th>\n",
       "      <td> 0.248887</td>\n",
       "      <td>  94814</td>\n",
       "    </tr>\n",
       "    <tr>\n",
       "      <th>WN</th>\n",
       "      <td> 0.181670</td>\n",
       "      <td>  61975</td>\n",
       "    </tr>\n",
       "  </tbody>\n",
       "</table>\n",
       "</div>"
      ],
      "text/plain": [
       "        percent_late   total\n",
       "AA          0.177143  165121\n",
       "AS          0.287349   21406\n",
       "CO          0.230427  123002\n",
       "DL          0.289921  185813\n",
       "EA          0.206792  108776\n",
       "HP          0.225313   45399\n",
       "NW          0.270086  108273\n",
       "PA (1)      0.216324   16785\n",
       "PI          0.242604  116482\n",
       "PS          0.339687   41706\n",
       "TW          0.244968   69650\n",
       "UA          0.230717  152624\n",
       "US          0.248887   94814\n",
       "WN          0.181670   61975"
      ]
     },
     "execution_count": 133,
     "metadata": {},
     "output_type": "execute_result"
    }
   ],
   "source": [
    "carrier_df[carrier_df[\"percent_late\"]>0.15]"
   ]
  },
  {
   "cell_type": "code",
   "execution_count": 137,
   "metadata": {
    "collapsed": false
   },
   "outputs": [
    {
     "name": "stdout",
     "output_type": "stream",
     "text": [
      "0 700\n",
      "700 900\n",
      "900 1100\n",
      "1100 1300\n",
      "1300 1500\n",
      "1500 1700\n",
      "1700 1900\n",
      "1900 2100\n",
      "2100 2400\n"
     ]
    }
   ],
   "source": [
    "#num_time = {}\n",
    "#times = [(0,700),(700,900),(900,1100),(1100,1300),(1300,1500),(1500,1700),(1700,1900),(1900,2100),(2100,2400)]\n",
    "#for a, b in times:\n",
    "#    print(a,b)\n",
    "#    temp_df = big_df[(big_df[\"CRSDepTime\"] >= a) & (big_df[\"CRSDepTime\"] < b)]     \n",
    "#    num_time[a] = {'total' :len(temp_df), 'percent_late':mean(temp_df[\"ArrDelay\"]>=15)}\n",
    "#len(num_carriers)\n",
    "#pickle.dump(num_time, open(\"1987num_time.pickle\", \"wb\"))\n"
   ]
  },
  {
   "cell_type": "code",
   "execution_count": 139,
   "metadata": {
    "collapsed": false
   },
   "outputs": [
    {
     "data": {
      "text/html": [
       "<div style=\"max-height:1000px;max-width:1500px;overflow:auto;\">\n",
       "<table border=\"1\" class=\"dataframe\">\n",
       "  <thead>\n",
       "    <tr style=\"text-align: right;\">\n",
       "      <th></th>\n",
       "      <th>percent_late</th>\n",
       "      <th>total</th>\n",
       "    </tr>\n",
       "  </thead>\n",
       "  <tbody>\n",
       "    <tr>\n",
       "      <th>0   </th>\n",
       "      <td> 0.139818</td>\n",
       "      <td>  67073</td>\n",
       "    </tr>\n",
       "    <tr>\n",
       "      <th>700 </th>\n",
       "      <td> 0.179560</td>\n",
       "      <td> 196380</td>\n",
       "    </tr>\n",
       "    <tr>\n",
       "      <th>900 </th>\n",
       "      <td> 0.223153</td>\n",
       "      <td> 160818</td>\n",
       "    </tr>\n",
       "    <tr>\n",
       "      <th>1100</th>\n",
       "      <td> 0.230005</td>\n",
       "      <td> 162740</td>\n",
       "    </tr>\n",
       "    <tr>\n",
       "      <th>1300</th>\n",
       "      <td> 0.231661</td>\n",
       "      <td> 166286</td>\n",
       "    </tr>\n",
       "    <tr>\n",
       "      <th>1500</th>\n",
       "      <td> 0.264395</td>\n",
       "      <td> 159791</td>\n",
       "    </tr>\n",
       "    <tr>\n",
       "      <th>1700</th>\n",
       "      <td> 0.291973</td>\n",
       "      <td> 181859</td>\n",
       "    </tr>\n",
       "    <tr>\n",
       "      <th>1900</th>\n",
       "      <td> 0.289825</td>\n",
       "      <td> 137728</td>\n",
       "    </tr>\n",
       "    <tr>\n",
       "      <th>2100</th>\n",
       "      <td> 0.265657</td>\n",
       "      <td>  79151</td>\n",
       "    </tr>\n",
       "  </tbody>\n",
       "</table>\n",
       "</div>"
      ],
      "text/plain": [
       "      percent_late   total\n",
       "0         0.139818   67073\n",
       "700       0.179560  196380\n",
       "900       0.223153  160818\n",
       "1100      0.230005  162740\n",
       "1300      0.231661  166286\n",
       "1500      0.264395  159791\n",
       "1700      0.291973  181859\n",
       "1900      0.289825  137728\n",
       "2100      0.265657   79151"
      ]
     },
     "execution_count": 139,
     "metadata": {},
     "output_type": "execute_result"
    }
   ],
   "source": [
    "num_time = pickle.load(open( \"1987num_time.pickle\", \"rb\" ))\n",
    "time_df = DataFrame(num_time).T\n",
    "time_df"
   ]
  },
  {
   "cell_type": "code",
   "execution_count": null,
   "metadata": {
    "collapsed": true
   },
   "outputs": [],
   "source": []
  }
 ],
 "metadata": {
  "kernelspec": {
   "display_name": "Python 3",
   "language": "python",
   "name": "python3"
  },
  "language_info": {
   "codemirror_mode": {
    "name": "ipython",
    "version": 3
   },
   "file_extension": ".py",
   "mimetype": "text/x-python",
   "name": "python",
   "nbconvert_exporter": "python",
   "pygments_lexer": "ipython3",
   "version": "3.4.1"
  }
 },
 "nbformat": 4,
 "nbformat_minor": 0
}
